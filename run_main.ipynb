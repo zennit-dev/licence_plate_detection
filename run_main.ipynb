{
 "cells": [
  {
   "metadata": {},
   "cell_type": "markdown",
   "source": "Run `main.py` on Google Colab",
   "id": "16c2d62131e44e99"
  },
  {
   "metadata": {},
   "cell_type": "code",
   "outputs": [],
   "execution_count": null,
   "source": [
    "## Step 1: Mount Google Drive\n",
    "\n",
    "from google.colab import drive\n",
    "\n",
    "drive.mount('/content/drive')"
   ],
   "id": "e68905a9c9eeeab"
  },
  {
   "metadata": {},
   "cell_type": "code",
   "outputs": [],
   "execution_count": null,
   "source": [
    "## Step 2: Clone the GitHub repository\n",
    "\n",
    "!rm -rf licence_plate_detection\n",
    "\n",
    "!git clone https://github.com/zennit-dev/licence_plate_detection.git\n",
    "%cd licence_plate_detection"
   ],
   "id": "1f8252bc239aa74a"
  },
  {
   "metadata": {},
   "cell_type": "code",
   "outputs": [],
   "execution_count": null,
   "source": [
    "## Step 3: Set up the data directory and download images\n",
    "\n",
    "!mkdir -p data/raw\n",
    "!curl -L -o ./data/raw/car-plate-detection.zip https://www.kaggle.com/api/v1/datasets/download/andrewmvd/car-plate-detection\n",
    "!unzip -o ./data/raw/car-plate-detection.zip -d ./data/raw\n",
    "\n",
    "!rm -rf ./data/raw/car-plate-detection.zip"
   ],
   "id": "e708350a95764ba1"
  },
  {
   "metadata": {},
   "cell_type": "code",
   "outputs": [],
   "execution_count": null,
   "source": [
    "## Step 4: Download the test image\n",
    "\n",
    "!curl -L -o ./data/test_plate.jpg https://t4.ftcdn.net/jpg/05/25/09/51/360_F_525095162_LhPtH4se3bv3D4tga2XthGC65iYWqwvT.jpg"
   ],
   "id": "e0bcfa9940273e9e"
  },
  {
   "metadata": {
    "jupyter": {
     "is_executing": true
    }
   },
   "cell_type": "code",
   "source": [
    "## Step 5: Install dependencies\n",
    "\n",
    "!pip install -e .\n",
    "\n",
    "!pip install black pylint mypy pytest"
   ],
   "id": "74062c8016e5629b",
   "outputs": [],
   "execution_count": null
  },
  {
   "metadata": {
    "jupyter": {
     "is_executing": true
    }
   },
   "cell_type": "code",
   "source": [
    "## Step 6: Run your script\n",
    "\n",
    "!poetry run python src/main.py --data ./data/test_plate.jpg"
   ],
   "id": "f387727652da8423",
   "outputs": [],
   "execution_count": null
  }
 ],
 "metadata": {
  "kernelspec": {
   "display_name": "Python 3",
   "language": "python",
   "name": "python3"
  },
  "language_info": {
   "codemirror_mode": {
    "name": "ipython",
    "version": 2
   },
   "file_extension": ".py",
   "mimetype": "text/x-python",
   "name": "python",
   "nbconvert_exporter": "python",
   "pygments_lexer": "ipython2",
   "version": "2.7.6"
  }
 },
 "nbformat": 4,
 "nbformat_minor": 5
}
