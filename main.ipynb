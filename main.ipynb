{
 "cells": [
  {
   "metadata": {},
   "cell_type": "markdown",
   "source": "Run `main.py` on Google Colab",
   "id": "43d5b471026e4985"
  },
  {
   "metadata": {
    "jupyter": {
     "is_executing": true
    }
   },
   "cell_type": "code",
   "source": [
    "## Step 1: Mount Google Drive and clone the repository\n",
    "## (skip this step if you are running the notebook locally)\n",
    "\n",
    "from google.colab import drive\n",
    "\n",
    "drive.mount('/content/drive')\n",
    "\n",
    "\n",
    "!git clone https://github.com/zennit-dev/licence_plate_detection.git\n",
    "%cd licence_plate_detection\n",
    "\n"
   ],
   "id": "fd74bc12d1ac8196",
   "outputs": [],
   "execution_count": null
  },
  {
   "metadata": {},
   "cell_type": "code",
   "outputs": [],
   "execution_count": null,
   "source": [
    "## Step 2: Set up the data directory and download images\n",
    "\n",
    "!mkdir -p data/raw\n",
    "!curl -L -o ./data/raw/car-plate-detection.zip https://www.kaggle.com/api/v1/datasets/download/andrewmvd/car-plate-detection\n",
    "!unzip -o ./data/raw/car-plate-detection.zip -d ./data/raw\n",
    "\n",
    "!rm -rf ./data/raw/car-plate-detection.zip"
   ],
   "id": "f81fd56bf29617b0"
  },
  {
   "metadata": {},
   "cell_type": "code",
   "outputs": [],
   "execution_count": null,
   "source": [
    "## Step 3: Download the test image\n",
    "\n",
    "!curl -L -o ./data/test_plate.jpg https://t4.ftcdn.net/jpg/05/25/09/51/360_F_525095162_LhPtH4se3bv3D4tga2XthGC65iYWqwvT.jpg"
   ],
   "id": "353ccc7126f98bb5"
  },
  {
   "metadata": {},
   "cell_type": "code",
   "outputs": [],
   "execution_count": null,
   "source": [
    "## Step 4: Install dependencies\n",
    "\n",
    "# First install the requirements\n",
    "!pip install -r requirements.txt --quiet\n",
    "\n",
    "# Then install your package in editable mode\n",
    "!pip install -e ."
   ],
   "id": "123797afd641a13e"
  },
  {
   "metadata": {},
   "cell_type": "code",
   "outputs": [],
   "execution_count": null,
   "source": [
    "## Step 5: Run your script\n",
    "\n",
    "!python src/main.py --image ./data/test_plate.jpg"
   ],
   "id": "aeb71395e0754e8e"
  }
 ],
 "metadata": {
  "kernelspec": {
   "display_name": "Python 3",
   "language": "python",
   "name": "python3"
  },
  "language_info": {
   "codemirror_mode": {
    "name": "ipython",
    "version": 2
   },
   "file_extension": ".py",
   "mimetype": "text/x-python",
   "name": "python",
   "nbconvert_exporter": "python",
   "pygments_lexer": "ipython2",
   "version": "2.7.6"
  }
 },
 "nbformat": 4,
 "nbformat_minor": 5
}
